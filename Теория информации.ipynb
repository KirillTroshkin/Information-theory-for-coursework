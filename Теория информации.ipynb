{
 "cells": [
  {
   "cell_type": "markdown",
   "id": "caf9dd0c",
   "metadata": {},
   "source": [
    "# Теория информации"
   ]
  },
  {
   "cell_type": "code",
   "execution_count": 1,
   "id": "cdc381bd",
   "metadata": {},
   "outputs": [],
   "source": [
    "import numpy as np\n",
    "from scipy.stats import entropy\n",
    "from sklearn.metrics import mutual_info_score"
   ]
  },
  {
   "cell_type": "code",
   "execution_count": 2,
   "id": "6da864ec",
   "metadata": {},
   "outputs": [
    {
     "name": "stdout",
     "output_type": "stream",
     "text": [
      "Энтропия: 1.4854752972273346\n"
     ]
    }
   ],
   "source": [
    "def entropy_example():\n",
    "    p = np.array([0.6, 0.4, 1])\n",
    "    print(\"Энтропия:\", entropy(p, base=2))\n",
    "entropy_example()"
   ]
  },
  {
   "cell_type": "code",
   "execution_count": 3,
   "id": "c55004b9",
   "metadata": {},
   "outputs": [
    {
     "name": "stdout",
     "output_type": "stream",
     "text": [
      "Объединённая энтропия: 1.7219280948873625\n"
     ]
    }
   ],
   "source": [
    "def joint_entropy_example():\n",
    "    p_joint = np.array([[0.4, 0.1], [0.1, 0.4]])\n",
    "    print(\"Объединённая энтропия:\", entropy(p_joint.flatten(), base=2))\n",
    "joint_entropy_example()"
   ]
  },
  {
   "cell_type": "code",
   "execution_count": 4,
   "id": "c089f7da",
   "metadata": {},
   "outputs": [
    {
     "name": "stdout",
     "output_type": "stream",
     "text": [
      "Условная энтропия: 0.7219280948873625\n"
     ]
    }
   ],
   "source": [
    "def conditional_entropy_example():\n",
    "    p_joint = np.array([[0.4, 0.1], [0.1, 0.4]])\n",
    "    p_y = np.sum(p_joint, axis=0)\n",
    "    H_XY = entropy(p_joint.flatten(), base=2)\n",
    "    H_Y = entropy(p_y, base=2)\n",
    "    H_X_given_Y = H_XY - H_Y\n",
    "    print(\"Условная энтропия:\", H_X_given_Y)\n",
    "conditional_entropy_example()"
   ]
  },
  {
   "cell_type": "code",
   "execution_count": 5,
   "id": "66aef4a4",
   "metadata": {},
   "outputs": [
    {
     "name": "stdout",
     "output_type": "stream",
     "text": [
      "KL-дивергенция (относительная энтропия): 0.029049405545331346\n"
     ]
    }
   ],
   "source": [
    "def kl_divergence_example():\n",
    "    p = np.array([0.6, 0.4])\n",
    "    q = np.array([0.5, 0.5])\n",
    "    print(\"KL-дивергенция (относительная энтропия):\", entropy(p, q, base=2))\n",
    "kl_divergence_example()"
   ]
  },
  {
   "cell_type": "code",
   "execution_count": 6,
   "id": "ac0af8ae",
   "metadata": {},
   "outputs": [
    {
     "name": "stdout",
     "output_type": "stream",
     "text": [
      "Взаимная информация 1.3862943611198904\n"
     ]
    }
   ],
   "source": [
    "def mutual_information_example():\n",
    "    X = np.array([0, 0, 1, 1, 2, 2, 3, 3])  \n",
    "    Y = np.array([1, 1, 0, 0, 3, 3, 2, 2])\n",
    "    I_XY = mutual_info_score(X, Y)\n",
    "    print(\"Взаимная информация\", I_XY)\n",
    "mutual_information_example()"
   ]
  },
  {
   "cell_type": "code",
   "execution_count": 7,
   "id": "a7910bfc",
   "metadata": {},
   "outputs": [
    {
     "name": "stdout",
     "output_type": "stream",
     "text": [
      "Условная взаимная информация: 0.08170416594551\n"
     ]
    }
   ],
   "source": [
    "def conditional_mutual_information_example():\n",
    "    def conditional_mutual_information(p_xyz):\n",
    "        p_xz = np.sum(p_xyz, axis=1)\n",
    "        p_yz = np.sum(p_xyz, axis=0)\n",
    "        p_z = np.sum(p_xyz, axis=(0, 1))\n",
    "        H_XZ = entropy(p_xz.flatten(), base=2)\n",
    "        H_YZ = entropy(p_yz.flatten(), base=2)\n",
    "        H_Z = entropy(p_z, base=2)\n",
    "        H_XYZ = entropy(p_xyz.flatten(), base=2)\n",
    "        I_XY_given_Z = H_XZ + H_YZ - H_Z - H_XYZ\n",
    "        return I_XY_given_Z\n",
    "    \n",
    "    p_xyz = np.array([[[0.05, 0.10], [0.10, 0.05]], \n",
    "                       [[0.10, 0.05], [0.05, 0.10]]])\n",
    "    print(\"Условная взаимная информация:\", conditional_mutual_information(p_xyz))\n",
    "conditional_mutual_information_example()"
   ]
  },
  {
   "cell_type": "code",
   "execution_count": 8,
   "id": "05ebf44e",
   "metadata": {},
   "outputs": [
    {
     "name": "stdout",
     "output_type": "stream",
     "text": [
      "Условная относительная информация: 0.15356065532898455\n"
     ]
    }
   ],
   "source": [
    "def conditional_relative_entropy_example():\n",
    "    p_xz = np.array([[0.3, 0.2], [0.1, 0.4]])\n",
    "    q_xz = np.array([[0.25, 0.25], [0.25, 0.25]])\n",
    "    kl_div = np.sum(p_xz * np.log2(p_xz / q_xz))\n",
    "    print(\"Условная относительная информация:\", kl_div)\n",
    "conditional_relative_entropy_example()"
   ]
  },
  {
   "cell_type": "code",
   "execution_count": null,
   "id": "b6243f9a",
   "metadata": {},
   "outputs": [],
   "source": []
  }
 ],
 "metadata": {
  "kernelspec": {
   "display_name": "Python 3 (ipykernel)",
   "language": "python",
   "name": "python3"
  },
  "language_info": {
   "codemirror_mode": {
    "name": "ipython",
    "version": 3
   },
   "file_extension": ".py",
   "mimetype": "text/x-python",
   "name": "python",
   "nbconvert_exporter": "python",
   "pygments_lexer": "ipython3",
   "version": "3.10.11"
  }
 },
 "nbformat": 4,
 "nbformat_minor": 5
}
